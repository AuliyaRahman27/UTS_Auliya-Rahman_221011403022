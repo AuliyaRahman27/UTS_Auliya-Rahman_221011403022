# Daftar perusahaan awal
perusahaan = [
    {"nama": "Perusahaan 1"},
    {"nama": "Perusahaan 2"},
    {"nama": "Perusahaan 3"}
]

# Mengurutkan daftar berdasarkan nama secara terbalik
perusahaan_terurut = sorted(perusahaan, key=lambda x: x["nama"], reverse=True)

# Menampilkan hasil
print(perusahaan_terurut)

OUTPUTNYA
[{'nama': 'Perusahaan 3'}, {'nama': 'Perusahaan 2'}, {'nama': 'Perusahaan 1'}]

# Daftar perusahaan dengan informasi domain
perusahaan = [
    {"nama": "Perusahaan 1", "domain": "Ritel", "negara": "Amerika Serikat"},
    {"nama": "Perusahaan 2", "domain": "Teknologi", "negara": "Inggris Raya"},
    {"nama": "Perusahaan 3", "domain": "Layanan Kesehatan", "negara": "Amerika Serikat"}
]

# Mencetak informasi domain dan negara setiap perusahaan
for p in perusahaan:
    print(f"{p['nama']}: {p['domain']} ({p['negara']})")

OUTPUTNYA
Perusahaan 1: Ritel (Amerika Serikat)
Perusahaan 2: Teknologi (Inggris Raya)
Perusahaan 3: Layanan Kesehatan (Amerika Serikat)

# Data perusahaan dan karyawan
perusahaan = [
    {
        "nama": "Perusahaan 1",
        "domain": "Pengecer",
        "karyawan": ["John Doe", "Robert Putih", "Ying Han Tan"]
    },
    {
        "nama": "Perusahaan 2",
        "domain": "Teknologi",
        "karyawan": ["Tom Smith", "Rubi Lee"]
    },
    {
        "nama": "Perusahaan 3",
        "domain": "Perawatan Kesehatan",
        "karyawan": ["Kenneth Ng", "Andrew Sebastian"]
    }
]

# Mengelompokkan karyawan berdasarkan domain
karyawan_berdasarkan_domain = {}
for p in perusahaan:
    domain = p["domain"]
    karyawan_berdasarkan_domain[domain] = p["karyawan"]

# Menampilkan hasil
print(karyawan_berdasarkan_domain)

OUTPUTNYA
{'Pengecer': ['John Doe', 'Robert Putih', 'Ying Han Tan'], 'Teknologi': ['Tom Smith', 'Rubi Lee'], 'Perawatan Kesehatan': ['Kenneth Ng', 'Andrew Sebastian']}

# Data perusahaan dengan informasi negara dan karyawan
perusahaan = [
    {
        "nama": "Perusahaan 1",
        "negara": "Amerika Serikat",
        "karyawan": ["John Doe", "Ying Han Tan", "Robert White"]
    },
    {
        "nama": "Perusahaan 2",
        "negara": "Inggris",
        "karyawan": ["Tom Smith", "Rubby Lee"]
    },
    {
        "nama": "Perusahaan 3",
        "negara": "Inggris",
        "karyawan": ["Andrew Sebastian", "Kenneth Ng"]
    }
]

# Fungsi untuk mendapatkan daftar karyawan beserta negara perusahaannya
def karyawan_dengan_negara(perusahaan_list):
    hasil = []
    for p in perusahaan_list:
        for karyawan in p["karyawan"]:
            hasil.append({
                "nama_lengkap": karyawan,
                "perusahaan": p["nama"],
                "negara": p["negara"]
            })
    return hasil

# Memanggil fungsi dan menampilkan hasil
daftar_karyawan = karyawan_dengan_negara(perusahaan)
print(daftar_karyawan)

OUTPUTNYA
[{'nama_lengkap': 'John Doe', 'perusahaan': 'Perusahaan 1', 'negara': 'Amerika Serikat'}, {'nama_lengkap': 'Ying Han Tan', 'perusahaan': 'Perusahaan 1', 'negara': 'Amerika Serikat'}, {'nama_lengkap': 'Robert White', 'perusahaan': 'Perusahaan 1', 'negara': 'Amerika Serikat'}, {'nama_lengkap': 'Tom Smith', 'perusahaan': 'Perusahaan 2', 'negara': 'Inggris'}, {'nama_lengkap': 'Rubby Lee', 'perusahaan': 'Perusahaan 2', 'negara': 'Inggris'}, {'nama_lengkap': 'Andrew Sebastian', 'perusahaan': 'Perusahaan 3', 'negara': 'Inggris'}, {'nama_lengkap': 'Kenneth Ng', 'perusahaan': 'Perusahaan 3', 'negara': 'Inggris'}]

# Data perusahaan beserta karyawan dan kewarganegaraan mereka
perusahaan = [
    {
        "nama": "Perusahaan 1",
        "karyawan": [
            {"nama": "John Doe", "kewarganegaraan": "Australia"},
            {"nama": "Robert White", "kewarganegaraan": "Australia"},
            {"nama": "Ying Han Tan", "kewarganegaraan": "Hongkong"}
        ]
    },
    {
        "nama": "Perusahaan 2",
        "karyawan": [
            {"nama": "Tom Smith", "kewarganegaraan": "Hongkong"},
            {"nama": "Rubby Lee", "kewarganegaraan": "Amerika Serikat"}
        ]
    },
    {
        "nama": "Perusahaan 3",
        "karyawan": [
            {"nama": "Kenneth Ng", "kewarganegaraan": "Amerika Serikat"},
            {"nama": "Andrew Sebastian", "kewarganegaraan": "Amerika Serikat"}
        ]
    }
]

# Fungsi untuk menghitung kewarganegaraan karyawan per perusahaan
def hitung_kewarganegaraan(perusahaan_list):
    hasil = []
    for p in perusahaan_list:
        kewarganegaraan_count = {}
        for karyawan in p["karyawan"]:
            kewarganegaraan = karyawan["kewarganegaraan"]
            if kewarganegaraan in kewarganegaraan_count:
                kewarganegaraan_count[kewarganegaraan] += 1
            else:
                kewarganegaraan_count[kewarganegaraan] = 1
        hasil.append({
            "perusahaan": p["nama"],
            "kewarganegaraan_karyawan": kewarganegaraan_count
        })
    return hasil

# Memanggil fungsi dan menampilkan hasil
daftar_perusahaan = hitung_kewarganegaraan(perusahaan)
print(daftar_perusahaan)

OUTPUTNYA
[{'perusahaan': 'Perusahaan 1', 'kewarganegaraan_karyawan': {'Australia': 2, 'Hongkong': 1}}, {'perusahaan': 'Perusahaan 2', 'kewarganegaraan_karyawan': {'Hongkong': 1, 'Amerika Serikat': 1}}, {'perusahaan': 'Perusahaan 3', 'kewarganegaraan_karyawan': {'Amerika Serikat': 2}}]
