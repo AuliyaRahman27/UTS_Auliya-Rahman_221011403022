NAMA : Auliya Rahman
KELAS : 05TPLM009
NIM : 221011403022

# Data perusahaan dan karyawan
company_detail_list = [
    {
        'name': 'Company 1',
        'domain': 'Retail', 
        'country': 'United States'
    },
    {
        'name': 'Company 2',
        'domain': 'Technology',
        'country': 'United Kingdom'
    },
    {
        'name': 'Company 3',
        'domain': 'Healthcare',
        'country': 'United States'
    }
]

employee_detail_list = [
    {
        'name': 'EMP-0001',
        'first_name': 'John',
        'last_name': 'Doe',
        'full_name': 'John Doe',
        'company': 'Company 1',
        'nationality': 'Australia'
    },
    {
        'name': 'EMP-0002', 
        'first_name': 'Tom',
        'last_name': 'Smith',
        'full_name': 'Tom Smith',
        'company': 'Company 2',
        'nationality': 'United States'
    },
    {
        'name': 'EMP-0003',
        'first_name': 'Andrew',
        'last_name': 'Sebastian',
        'full_name': 'Andrew Sebastian',
        'company': 'Company 3',
        'nationality': 'United States'
    },
    {
        'name': 'EMP-0005',
        'first_name': 'Ying Han',
        'last_name': 'Tan',
        'full_name': 'Ying Han Tan',
        'company': 'Company 1',
        'nationality': 'Australia'
    },
    {
        'name': 'EMP-0015',
        'first_name': 'Kenneth',
        'last_name': 'Ng',
        'full_name': 'Kenneth Ng',
        'company': 'Company 3',
        'nationality': 'United States'
    },
    {
        'name': 'EMP-0018',
        'first_name': 'Rubby',
        'last_name': 'Lee',
        'full_name': 'Rubby Lee',
        'company': 'Company 2',
        'nationality': 'Hong Kong'
    },
    {
        'name': 'EMP-0017',
        'first_name': 'Robert',
        'last_name': 'White',
        'full_name': 'Robert White',
        'company': 'Company 1',
        'nationality': 'Hong Kong'
    }
]

# Task 1 - Daftar perusahaan diurutkan terbalik
def get_sorted_companies():
    companies = [{'name': company['name']} for company in company_detail_list]
    sorted_companies = sorted(companies, key=lambda x: x['name'], reverse=True)
    print(sorted_companies)
    return sorted_companies

# Task 2 - Cetak domain perusahaan
def print_company_domains():
    for company in company_detail_list:
        print(f"Company {company['name'].split()[-1]}: {company['domain']} ({company['country']})")

# Task 3 - Daftar karyawan berdasarkan domain  
def get_employees_by_domain():
    result = {}
    # Inisialisasi dictionary dengan domain sebagai key
    for company in company_detail_list:
        result[company['domain']] = []
    
    # Tambahkan karyawan ke domain yang sesuai
    for employee in employee_detail_list:
        company = next(c for c in company_detail_list if c['name'] == employee['company'])
        result[company['domain']].append(employee['full_name'])
    
    print(result)
    return result

# Task 4 - Karyawan dengan negara perusahaan
def get_employees_with_company_country():
    result = []
    # Buat dictionary untuk memetakan perusahaan ke negara
    company_countries = {c['name']: c['country'] for c in company_detail_list}
    
    for employee in employee_detail_list:
        result.append({
            'full_name': employee['full_name'],
            'company': employee['company'],
            'country': company_countries[employee['company']]
        })
    print(result)
    return result

# Task 5 - Jumlah karyawan berdasarkan kewarganegaraan
def get_company_employee_nationalities():
    result = []
    for company in company_detail_list:
        nationality_count = {}
        company_employees = [e for e in employee_detail_list if e['company'] == company['name']]
        
        for employee in company_employees:
            nationality = employee['nationality']
            nationality_count[nationality] = nationality_count.get(nationality, 0) + 1
            
        result.append({
            'company': company['name'],
            'employee_nationality': nationality_count
        })
    print(result)
    return result

# Menjalankan dan menampilkan hasil
print("\nTask 1 - Daftar perusahaan diurutkan terbalik:")
get_sorted_companies()

print("\nTask 2 - Domain perusahaan:")
print_company_domains()

print("\nTask 3 - Daftar karyawan berdasarkan domain:")
get_employees_by_domain()

print("\nTask 4 - Karyawan dengan negara perusahaan:")
get_employees_with_company_country()

print("\nTask 5 - Jumlah karyawan berdasarkan kewarganegaraan:")
get_company_employee_nationalities()
Task 1 - Daftar perusahaan diurutkan terbalik:
[{'name': 'Company 3'}, {'name': 'Company 2'}, {'name': 'Company 1'}]

Task 2 - Domain perusahaan:
Company 1: Retail (United States)
Company 2: Technology (United Kingdom)
Company 3: Healthcare (United States)

Task 3 - Daftar karyawan berdasarkan domain:
{'Retail': ['John Doe', 'Ying Han Tan', 'Robert White'], 'Technology': ['Tom Smith', 'Rubby Lee'], 'Healthcare': ['Andrew Sebastian', 'Kenneth Ng']}

Task 4 - Karyawan dengan negara perusahaan:
[{'full_name': 'John Doe', 'company': 'Company 1', 'country': 'United States'}, {'full_name': 'Tom Smith', 'company': 'Company 2', 'country': 'United Kingdom'}, {'full_name': 'Andrew Sebastian', 'company': 'Company 3', 'country': 'United States'}, {'full_name': 'Ying Han Tan', 'company': 'Company 1', 'country': 'United States'}, {'full_name': 'Kenneth Ng', 'company': 'Company 3', 'country': 'United States'}, {'full_name': 'Rubby Lee', 'company': 'Company 2', 'country': 'United Kingdom'}, {'full_name': 'Robert White', 'company': 'Company 1', 'country': 'United States'}]

Task 5 - Jumlah karyawan berdasarkan kewarganegaraan:
[{'company': 'Company 1', 'employee_nationality': {'Australia': 2, 'Hong Kong': 1}}, {'company': 'Company 2', 'employee_nationality': {'United States': 1, 'Hong Kong': 1}}, {'company': 'Company 3', 'employee_nationality': {'United States': 2}}]
[{'company': 'Company 1',
  'employee_nationality': {'Australia': 2, 'Hong Kong': 1}},
 {'company': 'Company 2',
  'employee_nationality': {'United States': 1, 'Hong Kong': 1}},
 {'company': 'Company 3', 'employee_nationality': {'United States': 2}}]
